{
  "nbformat": 4,
  "nbformat_minor": 0,
  "metadata": {
    "colab": {
      "provenance": []
    },
    "kernelspec": {
      "name": "python3",
      "display_name": "Python 3"
    },
    "language_info": {
      "name": "python"
    }
  },
  "cells": [
    {
      "cell_type": "markdown",
      "source": [
        "**YUVACO DATA ANALYSIS INTERNSHIP TEST**"
      ],
      "metadata": {
        "id": "56ZtQvtqBQGu"
      }
    },
    {
      "cell_type": "markdown",
      "source": [
        "Please consider yourself working as a data analyst at a firm that deals with delivery of goods and packages. They have their database through they calculate cost of expedition for each package which represents single row in the data."
      ],
      "metadata": {
        "id": "WkzBUnELBtTS"
      }
    },
    {
      "cell_type": "markdown",
      "source": [
        "**Q. Write a python script that calculates the same - ie cost of each package delivery in the dataset. The cost grid to calculate cost is provided as well.**"
      ],
      "metadata": {
        "id": "OQ5Sqh_kBgGk"
      }
    },
    {
      "cell_type": "code",
      "source": [
        "package_data = [\n",
        "    {'Package ID': 1, 'Weight (kg)': 3, 'Distance (km)': 10, 'Delivery Type': 'Express'},\n",
        "    {'Package ID': 2, 'Weight (kg)': 5, 'Distance (km)': 25, 'Delivery Type': 'Standard'},\n",
        "    {'Package ID': 3, 'Weight (kg)': 2, 'Distance (km)': 5, 'Delivery Type': 'Express'},\n",
        "    {'Package ID': 4, 'Weight (kg)': 6, 'Distance (km)': 15, 'Delivery Type': 'Standard'},\n",
        "    {'Package ID': 5, 'Weight (kg)': 4, 'Distance (km)': 30, 'Delivery Type': 'Express'},\n",
        "]\n",
        "\n",
        "# Cost grid\n",
        "cost_grid = {\n",
        "    'Express': {\n",
        "        'Base Cost': 10,\n",
        "        'Cost per kg': 2,\n",
        "        'Cost per km': 1,\n",
        "    },\n",
        "    'Standard': {\n",
        "        'Base Cost': 5,\n",
        "        'Cost per kg': 1.5,\n",
        "        'Cost per km': 0.5,\n",
        "    }\n",
        "}"
      ],
      "metadata": {
        "id": "hffqlCkqCkHz"
      },
      "execution_count": 3,
      "outputs": []
    },
    {
      "cell_type": "code",
      "execution_count": 4,
      "metadata": {
        "id": "E02XuFDSBFHE"
      },
      "outputs": [],
      "source": [
        "def calculate_package_cost(package):\n",
        "    delivery_type = package['Delivery Type']\n",
        "    base_cost = cost_grid[delivery_type]['Base Cost']\n",
        "    cost_per_kg = cost_grid[delivery_type]['Cost per kg']\n",
        "    cost_per_km = cost_grid[delivery_type]['Cost per km']\n",
        "    weight = package['Weight (kg)']\n",
        "    distance = package['Distance (km)']\n",
        "\n",
        "    # Calculate the cost\n",
        "    total_cost = base_cost + (cost_per_kg * weight) + (cost_per_km * distance)\n",
        "    return total_cost"
      ]
    },
    {
      "cell_type": "code",
      "source": [
        "# Calculate and print the cost for each package\n",
        "for package in package_data:\n",
        "    total_cost = calculate_package_cost(package)\n",
        "    print(f\"Package ID {package['Package ID']} - Total Cost: ${total_cost:.2f}\")"
      ],
      "metadata": {
        "colab": {
          "base_uri": "https://localhost:8080/"
        },
        "id": "qMrwNOhCCUhi",
        "outputId": "be6543c3-0190-4f95-dab2-6b7186d7266f"
      },
      "execution_count": 5,
      "outputs": [
        {
          "output_type": "stream",
          "name": "stdout",
          "text": [
            "Package ID 1 - Total Cost: $26.00\n",
            "Package ID 2 - Total Cost: $25.00\n",
            "Package ID 3 - Total Cost: $19.00\n",
            "Package ID 4 - Total Cost: $21.50\n",
            "Package ID 5 - Total Cost: $48.00\n"
          ]
        }
      ]
    },
    {
      "cell_type": "code",
      "source": [],
      "metadata": {
        "id": "P5fZj7k6CLTl"
      },
      "execution_count": null,
      "outputs": []
    }
  ]
}